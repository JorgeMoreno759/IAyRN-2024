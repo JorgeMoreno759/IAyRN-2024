{
  "nbformat": 4,
  "nbformat_minor": 0,
  "metadata": {
    "colab": {
      "provenance": []
    },
    "kernelspec": {
      "name": "python3",
      "display_name": "Python 3"
    },
    "language_info": {
      "name": "python"
    }
  },
  "cells": [
    {
      "cell_type": "code",
      "source": [
        "print(\"Actividad : Dieseño de algoritmos en Python\")\n",
        "print(\"Jorge Fabián Moreno Sarmiento\")\n",
        "print(\"2015221\")\n",
        "print(\"N1\")"
      ],
      "metadata": {
        "colab": {
          "base_uri": "https://localhost:8080/"
        },
        "id": "PYIn6WQb38od",
        "outputId": "67e2e777-311f-4c40-9754-acb9268628e1"
      },
      "execution_count": 9,
      "outputs": [
        {
          "output_type": "stream",
          "name": "stdout",
          "text": [
            "Actividad : Dieseño de algoritmos en Python\n",
            "Jorge Fabián Moreno Sarmiento\n",
            "2015221\n",
            "N1\n"
          ]
        }
      ]
    },
    {
      "cell_type": "code",
      "source": [
        "# Solicitar al usuario su nombre\n",
        "nombre = input(\"Ingrese su nombre: \")\n",
        "\n",
        "# Verificar si el nombre está en la lista de excepciones\n",
        "if nombre.lower() not in [\"ana\", \"juan\", \"pedro\"]:\n",
        "    print(\"Hola \" + nombre + \", bienvenido/a.\")\n"
      ],
      "metadata": {
        "colab": {
          "base_uri": "https://localhost:8080/"
        },
        "id": "vTjMhJiT1YqL",
        "outputId": "12e6364a-170e-410e-e7b3-96ff64bb3c8c"
      },
      "execution_count": 3,
      "outputs": [
        {
          "name": "stdout",
          "output_type": "stream",
          "text": [
            "Ingrese su nombre: Ana\n"
          ]
        }
      ]
    },
    {
      "cell_type": "code",
      "source": [
        "def invertir_lista():\n",
        "    n = int(input(\"Ingrese la cantidad de elementos en la lista: \"))\n",
        "\n",
        "    lista_original = []\n",
        "    for i in range(n):\n",
        "        elemento = input(f\"Ingrese el elemento {i + 1}: \")\n",
        "        lista_original.append(elemento)\n",
        "\n",
        "    lista_invertida = lista_original[::-1]\n",
        "\n",
        "    print(\"\\nLista Original:\", lista_original)\n",
        "    print(\"Lista Invertida:\", lista_invertida)\n",
        "\n",
        "invertir_lista()\n"
      ],
      "metadata": {
        "colab": {
          "base_uri": "https://localhost:8080/"
        },
        "id": "ixGlnWml1oad",
        "outputId": "350537e1-df40-4a2f-d3f8-6aa45da2006d"
      },
      "execution_count": 4,
      "outputs": [
        {
          "output_type": "stream",
          "name": "stdout",
          "text": [
            "Ingrese la cantidad de elementos en la lista: 3\n",
            "Ingrese el elemento 1: 1\n",
            "Ingrese el elemento 2: 5\n",
            "Ingrese el elemento 3: 7\n",
            "\n",
            "Lista Original: ['1', '5', '7']\n",
            "Lista Invertida: ['7', '5', '1']\n"
          ]
        }
      ]
    },
    {
      "cell_type": "code",
      "source": [
        "def generar_fibonacci(n):\n",
        "    fibonacci = [0, 1]\n",
        "\n",
        "    for i in range(2, n):\n",
        "        fibonacci.append(fibonacci[i - 1] + fibonacci[i - 2])\n",
        "\n",
        "    return fibonacci\n",
        "\n",
        "n = int(input(\"Ingrese la cantidad de números de Fibonacci a generar: \"))\n",
        "\n",
        "serie_fibonacci = generar_fibonacci(n)\n",
        "\n",
        "print(f\"\\nLos primeros {n} números de la serie de Fibonacci son:\")\n",
        "print(serie_fibonacci)\n"
      ],
      "metadata": {
        "colab": {
          "base_uri": "https://localhost:8080/"
        },
        "id": "pok2GwTw18K6",
        "outputId": "a6976bd9-7d34-4d20-d1ee-41b644282976"
      },
      "execution_count": 6,
      "outputs": [
        {
          "output_type": "stream",
          "name": "stdout",
          "text": [
            "Ingrese la cantidad de números de Fibonacci a generar: 10\n",
            "\n",
            "Los primeros 10 números de la serie de Fibonacci son:\n",
            "[0, 1, 1, 2, 3, 5, 8, 13, 21, 34]\n"
          ]
        }
      ]
    },
    {
      "cell_type": "code",
      "source": [
        "import random\n",
        "\n",
        "def juego_adivinar_numero():\n",
        "    numero_objetivo = random.randint(1, 100)\n",
        "\n",
        "    print(\"Juego de adivinar el número entre 1 y 100.\")\n",
        "\n",
        "    intentos = 0\n",
        "    while True:\n",
        "        intento = int(input(\"Ingresa tu intento: \"))\n",
        "        intentos += 1\n",
        "\n",
        "        if intento == numero_objetivo:\n",
        "            print(f\"Felicidades, ¡adivinaste el número en {intentos} intentos!\")\n",
        "            break\n",
        "        elif intento < numero_objetivo:\n",
        "            print(\"El número es mayor. Intenta de nuevo.\")\n",
        "        else:\n",
        "            print(\"El número es menor. Intenta de nuevo.\")\n",
        "\n",
        "juego_adivinar_numero()\n"
      ],
      "metadata": {
        "colab": {
          "base_uri": "https://localhost:8080/"
        },
        "id": "LqZpEvA12Irz",
        "outputId": "78549c26-6501-40bf-de80-d63aa0283276"
      },
      "execution_count": 8,
      "outputs": [
        {
          "output_type": "stream",
          "name": "stdout",
          "text": [
            "Juego de adivinar el número entre 1 y 100.\n",
            "Ingresa tu intento: 50\n",
            "El número es mayor. Intenta de nuevo.\n",
            "Ingresa tu intento: 75\n",
            "El número es mayor. Intenta de nuevo.\n",
            "Ingresa tu intento: 88\n",
            "El número es mayor. Intenta de nuevo.\n",
            "Ingresa tu intento: 94\n",
            "El número es mayor. Intenta de nuevo.\n",
            "Ingresa tu intento: 98\n",
            "El número es menor. Intenta de nuevo.\n",
            "Ingresa tu intento: 95\n",
            "Felicidades, ¡adivinaste el número en 6 intentos!\n"
          ]
        }
      ]
    },
    {
      "cell_type": "code",
      "source": [
        "def es_primo(numero):\n",
        "    if numero < 2:\n",
        "        return False\n",
        "    for i in range(2, int(numero**0.5) + 1):\n",
        "        if numero % i == 0:\n",
        "            return False\n",
        "    return True\n",
        "\n",
        "def numeros_primos_en_rango(inicio, fin):\n",
        "    print(f\"Números primos en el rango de {inicio} a {fin}:\")\n",
        "    for num in range(inicio, fin + 1):\n",
        "        if es_primo(num):\n",
        "            print(num, end=\" \")\n",
        "\n",
        "\n",
        "inicio_rango = int(input(\"Ingresa el inicio del rango: \"))\n",
        "fin_rango = int(input(\"Ingresa el final del rango: \"))\n",
        "\n",
        "numeros_primos_en_rango(inicio_rango, fin_rango)\n"
      ],
      "metadata": {
        "colab": {
          "base_uri": "https://localhost:8080/"
        },
        "id": "fzN9Yi7s4ViG",
        "outputId": "1b874b77-de5b-4481-d9fe-607213e63e56"
      },
      "execution_count": 11,
      "outputs": [
        {
          "output_type": "stream",
          "name": "stdout",
          "text": [
            "Ingresa el inicio del rango: 1\n",
            "Ingresa el final del rango: 100\n",
            "Números primos en el rango de 1 a 100:\n",
            "2 3 5 7 11 13 17 19 23 29 31 37 41 43 47 53 59 61 67 71 73 79 83 89 97 "
          ]
        }
      ]
    },
    {
      "cell_type": "code",
      "source": [
        "def suma(a, b):\n",
        "    return a + b\n",
        "\n",
        "def resta(a, b):\n",
        "    return a - b\n",
        "\n",
        "def multiplicacion(a, b):\n",
        "    return a * b\n",
        "\n",
        "def division(a, b):\n",
        "    if b != 0:\n",
        "        return a / b\n",
        "    else:\n",
        "        return \"Error: No se puede dividir por cero.\"\n",
        "\n",
        "num1 = float(input(\"Ingresa el primer número: \"))\n",
        "num2 = float(input(\"Ingresa el segundo número: \"))\n",
        "\n",
        "print(f\"Suma: {suma(num1, num2)}\")\n",
        "print(f\"Resta: {resta(num1, num2)}\")\n",
        "print(f\"Multiplicación: {multiplicacion(num1, num2)}\")\n",
        "print(f\"División: {division(num1, num2)}\")\n"
      ],
      "metadata": {
        "colab": {
          "base_uri": "https://localhost:8080/"
        },
        "id": "CtrI5o8G4v0c",
        "outputId": "dbbefaad-ae6a-49a5-cef5-c53075bdb5b8"
      },
      "execution_count": 12,
      "outputs": [
        {
          "output_type": "stream",
          "name": "stdout",
          "text": [
            "Ingresa el primer número: 5\n",
            "Ingresa el segundo número: 3\n",
            "Suma: 8.0\n",
            "Resta: 2.0\n",
            "Multiplicación: 15.0\n",
            "División: 1.6666666666666667\n"
          ]
        }
      ]
    }
  ]
}